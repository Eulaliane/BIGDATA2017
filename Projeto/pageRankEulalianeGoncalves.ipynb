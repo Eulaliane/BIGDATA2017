{
 "cells": [
  {
   "cell_type": "code",
   "execution_count": 1,
   "metadata": {},
   "outputs": [
    {
     "name": "stdout",
     "output_type": "stream",
     "text": [
      "['paginaA', 'paginaB']\n",
      "['paginaB', 'paginaC']\n",
      "['paginaC', 'paginaA']\n",
      "['paginaA', 'paginaC']\n",
      "('paginaA', <pyspark.resultiterable.ResultIterable object at 0x0000000008C10A90>)\n",
      "('paginaC', <pyspark.resultiterable.ResultIterable object at 0x0000000008C10BA8>)\n",
      "('paginaB', <pyspark.resultiterable.ResultIterable object at 0x0000000008C10AC8>)\n",
      "('paginaA', 1.0)\n",
      "('paginaC', 1.0)\n",
      "('paginaB', 1.0)\n",
      "('paginaA', (<pyspark.resultiterable.ResultIterable object at 0x0000000008C308D0>, 1.0))\n",
      "('paginaC', (<pyspark.resultiterable.ResultIterable object at 0x0000000008C30908>, 1.0))\n",
      "('paginaB', (<pyspark.resultiterable.ResultIterable object at 0x0000000008C30630>, 1.0))\n",
      "('paginaB', 0.5)\n",
      "('paginaC', 0.5)\n",
      "('paginaA', 1.0)\n",
      "('paginaC', 1.0)\n",
      "('paginaA', 1.0)\n",
      "('paginaC', 1.4249999999999998)\n",
      "('paginaB', 0.575)\n",
      "\n",
      "\n",
      "A paginaC está com 1.425 no ranking.\n",
      "\n",
      "\n",
      "A paginaA está com 1.0 no ranking.\n",
      "\n",
      "\n",
      "A paginaB está com 0.575 no ranking.\n"
     ]
    }
   ],
   "source": [
    "sc = SparkContext.getOrCreate()\n",
    "\n",
    "def atualizar(urls, rank):\n",
    "    for i in urls: yield(i, rank/len(urls))\n",
    "\n",
    "paginas = \"paginaA\",\"paginaB\"\n",
    "paginas0 = \"paginaB\",\"paginaC\"\n",
    "paginas1 = \"paginaC\",\"paginaA\"\n",
    "paginas2 = \"paginaA\",\"paginaC\"\n",
    "\n",
    "links = (sc\n",
    "        .parallelize([paginas,paginas0,paginas1,paginas2])\n",
    "        .map(lambda x: [x[0],x[1]])\n",
    "        .cache()\n",
    "        )\n",
    "for i in links.collect(): print i\n",
    "    \n",
    "grupos = (links\n",
    "         .groupByKey()\n",
    "         .cache()\n",
    "         )\n",
    "for i in grupos.collect(): print i\n",
    "    \n",
    "ranks = (grupos\n",
    "        .map(lambda x: (x[0], 1.0))\n",
    "        )\n",
    "for i in ranks.collect() : print i\n",
    "\n",
    "    \n",
    "for x in range(2): gruposRankeados = grupos.join(ranks)\n",
    "for i in gruposRankeados.collect() : print i\n",
    "    \n",
    "rankAtual = (gruposRankeados\n",
    "            .flatMap(lambda x: atualizar(x[1][0], x[1][1]))\n",
    "            )\n",
    "for i in rankAtual.collect() : print i\n",
    "    \n",
    "rankFinal = (rankAtual\n",
    "            .reduceByKey(lambda x,y: x+y)\n",
    "            .mapValues(lambda d: d * 0.85 + 0.15)\n",
    "            )\n",
    "for i in rankFinal.collect() : print i\n",
    "    \n",
    "for (pagina, rank) in rankFinal.sortBy(lambda x:-x[1]).take(3):\n",
    "    print(\"\\n\\nA %s está com %s no ranking.\" % (pagina, rank))\n"
   ]
  }
 ],
 "metadata": {
  "kernelspec": {
   "display_name": "Python 2",
   "language": "python",
   "name": "python2"
  },
  "language_info": {
   "codemirror_mode": {
    "name": "ipython",
    "version": 2
   },
   "file_extension": ".py",
   "mimetype": "text/x-python",
   "name": "python",
   "nbconvert_exporter": "python",
   "pygments_lexer": "ipython2",
   "version": "2.7.13"
  }
 },
 "nbformat": 4,
 "nbformat_minor": 2
}
